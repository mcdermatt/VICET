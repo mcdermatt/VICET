{
 "cells": [
  {
   "cell_type": "code",
   "execution_count": null,
   "id": "0b684956",
   "metadata": {},
   "outputs": [],
   "source": [
    "from vedo import *\n",
    "from ipyvtklink.viewer import ViewInteractiveWidget\n",
    "import numpy as np\n",
    "import tensorflow as tf\n",
    "from VICET import VICET\n",
    "from utils import *\n",
    "from scipy.spatial.transform import Rotation as R\n",
    "from matplotlib import pyplot as plt\n",
    "import nbconvert\n",
    "\n",
    "%load_ext autoreload\n",
    "%autoreload 2\n",
    "%autosave 180\n",
    "%matplotlib notebook"
   ]
  },
  {
   "cell_type": "markdown",
   "id": "1fcac74e",
   "metadata": {},
   "source": [
    "# Run VICET on simple box enviornment"
   ]
  },
  {
   "cell_type": "code",
   "execution_count": null,
   "id": "766d6f5a",
   "metadata": {},
   "outputs": [],
   "source": [
    "#load sample data\n",
    "reference_cloud = np.load(\"sample_point_clouds/aa.npy\")\n",
    "distorted_cloud = np.load(\"sample_point_clouds/ab.npy\") #translation from a -> b in paper Fig. (1)\n",
    "# distorted_cloud = np.load(\"sample_point_clouds/ac.npy\") #translation + rotation from a -> c in paper Fig. (1) (requires some tuning of VICET parameters to get working with zero initial conditions)\n",
    "\n",
    "# #remove ground plane\n",
    "# reference_cloud = reference_cloud[reference_cloud[:,2] > -1] \n",
    "# distorted_cloud = distorted_cloud[distorted_cloud[:,2] > -1] \n",
    "\n",
    "#plot raw clouds\n",
    "plt = Plotter(N = 1, axes = 4, bg = (1, 1, 1), interactive = True)\n",
    "disp=[]\n",
    "dpts = Points(distorted_cloud, c = \"#2c7c94\", alpha = 0.5).legend('Distorted Cloud')\n",
    "rpts = Points(reference_cloud, c = \"#CB2314\", alpha = 0.5).legend('Reference Cloud')\n",
    "disp.append(dpts)\n",
    "disp.append(rpts)\n",
    "lb = LegendBox([dpts, rpts], width=0.3, height=0.2, markers='s', bg = 'white', pos = 'top right', alpha = 0.1).font(\"Theemim\")\n",
    "plt.show(disp, lb, \"raw point clouds\")"
   ]
  },
  {
   "cell_type": "code",
   "execution_count": null,
   "id": "7df250ea",
   "metadata": {
    "scrolled": true
   },
   "outputs": [],
   "source": [
    "#seed inital guess of chi_hat\n",
    "chi_init = np.array([0., 0., 0, 0, 0, 0.0,\n",
    "               0, 0.0, 0, 0, 0, 0.])\n",
    "\n",
    "chi_hat = VICET(cloud1 = reference_cloud, cloud2 = distorted_cloud, fid = 60, niter = 50, \n",
    "        draw = True, mnp = 100, RM = False, max_buffer = 3.5, chi_init = chi_init, sweep_direction = 'CW')\n",
    "# sweep_direction -> VICET assumes LIDAR sensor spins Counter-Clockwise, set to CW otherwise\n",
    "# fid             -> number of azimuthal voxels per 360 deg\n",
    "# niter           -> number of iterations\n",
    "# RM              -> Suppress voxels containing moving objects\n",
    "# max_buffer      -> Max radial buffer on spherical voxels\n",
    "# mnp             -> Minimum number of points required for a voxel to be considered"
   ]
  }
 ],
 "metadata": {
  "kernelspec": {
   "display_name": "Python 3 (ipykernel)",
   "language": "python",
   "name": "python3"
  },
  "language_info": {
   "codemirror_mode": {
    "name": "ipython",
    "version": 3
   },
   "file_extension": ".py",
   "mimetype": "text/x-python",
   "name": "python",
   "nbconvert_exporter": "python",
   "pygments_lexer": "ipython3",
   "version": "3.9.16"
  }
 },
 "nbformat": 4,
 "nbformat_minor": 5
}
